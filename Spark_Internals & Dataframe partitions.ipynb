{
 "cells": [
  {
   "cell_type": "code",
   "execution_count": 1,
   "id": "99687635",
   "metadata": {},
   "outputs": [],
   "source": [
    "# Create a spark session\n",
    "\n",
    "from pyspark.sql import SparkSession\n",
    "from pyspark.sql.functions import *\n",
    "from pyspark.sql.types import *\n",
    "\n",
    "import getpass\n",
    "username = getpass.getuser()\n",
    "spark = SparkSession. \\\n",
    "builder. \\\n",
    "config('spark.ui.port','0'). \\\n",
    "config(\"spark.sql.warehouse.dir\", \"/user/{username}/warehouse\"). \\\n",
    "config(\"spark.dynamicAllocation.enabled\", \"false\"). \\\n",
    "enableHiveSupport(). \\\n",
    "master('yarn'). \\\n",
    "getOrCreate()"
   ]
  },
  {
   "cell_type": "code",
   "execution_count": 2,
   "id": "e50880be",
   "metadata": {},
   "outputs": [
    {
     "data": {
      "text/html": [
       "\n",
       "            <div>\n",
       "                <p><b>SparkSession - hive</b></p>\n",
       "                \n",
       "        <div>\n",
       "            <p><b>SparkContext</b></p>\n",
       "\n",
       "            <p><a href=\"http://g02.itversity.com:33329\">Spark UI</a></p>\n",
       "\n",
       "            <dl>\n",
       "              <dt>Version</dt>\n",
       "                <dd><code>v3.1.2</code></dd>\n",
       "              <dt>Master</dt>\n",
       "                <dd><code>yarn</code></dd>\n",
       "              <dt>AppName</dt>\n",
       "                <dd><code>pyspark-shell</code></dd>\n",
       "            </dl>\n",
       "        </div>\n",
       "        \n",
       "            </div>\n",
       "        "
      ],
      "text/plain": [
       "<pyspark.sql.session.SparkSession at 0x7fe61db56fd0>"
      ]
     },
     "execution_count": 2,
     "metadata": {},
     "output_type": "execute_result"
    }
   ],
   "source": [
    "spark"
   ]
  },
  {
   "cell_type": "code",
   "execution_count": 3,
   "id": "826262bc",
   "metadata": {},
   "outputs": [],
   "source": [
    "# Define the structure for reading the JSON files under the specified location\n",
    "\n",
    "user_sms_schema = StructType([\n",
    "    StructField(\"user_id\", IntegerType(), nullable=False),\n",
    "    StructField(\"user_first_name\", StringType(), nullable=False),\n",
    "    StructField(\"user_last_name\", StringType(), nullable=False),\n",
    "    StructField(\"user_email\", StringType(), nullable=False),\n",
    "    StructField(\"user_gender\", StringType(), nullable=False),\n",
    "    StructField(\"user_phone_numbers\", ArrayType(StringType()), nullable=False),\n",
    "    StructField(\"user_address\", StructType([\n",
    "        StructField(\"street\", StringType(), nullable=False),\n",
    "        StructField(\"city\", StringType(), nullable=False),\n",
    "        StructField(\"state\", StringType(), nullable=False),\n",
    "        StructField(\"postal_code\", StringType(), nullable=False), ]) , nullable=False)])"
   ]
  },
  {
   "cell_type": "code",
   "execution_count": 4,
   "id": "53f306e4",
   "metadata": {},
   "outputs": [],
   "source": [
    "# Reading the json files in the specified HDFS location and storing it in a dataframe\n",
    "\n",
    "user_sms_df = spark.read.format(\"json\").schema(user_sms_schema).load(\"/public/sms/users\")"
   ]
  },
  {
   "cell_type": "code",
   "execution_count": 5,
   "id": "d813297f",
   "metadata": {},
   "outputs": [
    {
     "name": "stdout",
     "output_type": "stream",
     "text": [
      "+-------+---------------+--------------+--------------------------------+-----------+------------------------------------------------------------+----------------------------------------------------------+\n",
      "|user_id|user_first_name|user_last_name|user_email                      |user_gender|user_phone_numbers                                          |user_address                                              |\n",
      "+-------+---------------+--------------+--------------------------------+-----------+------------------------------------------------------------+----------------------------------------------------------+\n",
      "|200001 |Eirena         |Cutsforth     |ecutsforth0@wisc.edu            |Female     |[4197404036, 9173828061, 4027467939, 3371963735]            |{8 Warrior Drive, Dallas, Texas, 75358}                   |\n",
      "|200002 |Marja          |Shopcott      |mshopcott1@hexun.com            |Female     |[9542037028, 2128289053, 4068088779, 2621495368, 9038414778]|{66 Prairieview Terrace, Joliet, Illinois, 60435}         |\n",
      "|200003 |Dawn           |Tointon       |dtointon2@ucsd.edu              |Female     |[9523035647, 2134982789, 6615999645]                        |{18 Ronald Regan Hill, Shawnee Mission, Kansas, 66225}    |\n",
      "|200004 |Goldi          |Leaman        |gleaman3@360.cn                 |Female     |[2027069459, 7042854979, 2058662100, 2156494557, 3612541912]|{7696 Calypso Junction, Saint Paul, Minnesota, 55166}     |\n",
      "|200005 |Brewster       |Hallagan      |bhallagan4@livejournal.com      |Male       |[8134746319, 2152769457]                                    |{942 Emmet Park, Albuquerque, New Mexico, 87110}          |\n",
      "|200006 |Florence       |Glashby       |fglashby5@deviantart.com        |Female     |[7571763565, 7134157643, 6109401875, 6789261652, 2023724495]|{664 Ridge Oak Circle, Virginia Beach, Virginia, 23454}   |\n",
      "|200007 |Zollie         |Philimore     |zphilimore6@webeden.co.uk       |Male       |[7865450177, 8019242051]                                    |{4 Continental Drive, Young America, Minnesota, 55557}    |\n",
      "|200008 |Ferdinand      |Ramelot       |framelot7@alexa.com             |Male       |[8164055187]                                                |{44698 Arapahoe Park, Tucson, Arizona, 85725}             |\n",
      "|200009 |Ruddy          |Greystoke     |rgreystoke8@digg.com            |Male       |null                                                        |{null, null, null, null}                                  |\n",
      "|200010 |Gilles         |Beeho         |gbeeho9@webmd.com               |Male       |[5599886694, 5201911221]                                    |{9430 Reinke Park, North Las Vegas, Nevada, 89087}        |\n",
      "|200011 |Axel           |Kitchinham    |akitchinhama@naver.com          |Male       |[2036913158]                                                |{688 Granby Point, Warren, Ohio, 44485}                   |\n",
      "|200012 |Moreen         |Pearmine      |mpearmineb@github.com           |Female     |[4047148129]                                                |{3997 Russell Parkway, North Little Rock, Arkansas, 72199}|\n",
      "|200013 |Joceline       |Adshead       |jadsheadc@joomla.org            |Female     |[3134837460, 3022947366, 7702373822, 7166720430]            |{89 Fair Oaks Terrace, Shawnee Mission, Kansas, 66220}    |\n",
      "|200014 |Roxie          |Menichi       |rmenichid@nationalgeographic.com|Female     |[6148474898, 9034594283, 2812388853, 9282129221]            |{3 Green Pass, Fort Wayne, Indiana, 46814}                |\n",
      "|200015 |Selena         |Flood         |sfloode@delicious.com           |Female     |[7274706417, 4026151021, 7578520296]                        |{2 Butterfield Crossing, Sacramento, California, 94286}   |\n",
      "|200016 |Leoine         |Markovic      |lmarkovicf@usa.gov              |Female     |null                                                        |{null, null, null, null}                                  |\n",
      "|200017 |Judi           |Svanetti      |jsvanettig@theglobeandmail.com  |Female     |[2158389703, 8169206363, 7149845960, 8019197400, 3105149676]|{1 Sheridan Pass, Miami, Florida, 33147}                  |\n",
      "|200018 |Hildegarde     |Hapke         |hhapkeh@nps.gov                 |Female     |[8183692525]                                                |{60 Oak Valley Street, Missoula, Montana, 59806}          |\n",
      "|200019 |Hanni          |Dommett       |hdommetti@tinyurl.com           |Female     |[7868201036, 7048546511, 2029024266, 3012635847]            |{5 Vera Point, Wichita Falls, Texas, 76310}               |\n",
      "|200020 |Rupert         |Gaskoin       |rgaskoinj@mozilla.com           |Male       |[5623065887, 9198293554, 8061474652]                        |{52636 Heath Alley, Kansas City, Missouri, 64160}         |\n",
      "+-------+---------------+--------------+--------------------------------+-----------+------------------------------------------------------------+----------------------------------------------------------+\n",
      "only showing top 20 rows\n",
      "\n"
     ]
    }
   ],
   "source": [
    "# To get a high level view of what the data looks like\n",
    "\n",
    "user_sms_df.show(truncate=False)"
   ]
  },
  {
   "cell_type": "code",
   "execution_count": 6,
   "id": "4f86a6f9",
   "metadata": {},
   "outputs": [],
   "source": [
    "# Slicing of street, city, state and post code from user_address(stored in nested JSON) along with count of phone numbers and creating new columns\n",
    "\n",
    "user_sms_df = user_sms_df.withColumn(\"user_street\", col(\"user_address.street\")) \\\n",
    ".withColumn(\"user_city\", col(\"user_address.city\")) \\\n",
    ".withColumn(\"user_state\", col(\"user_address.state\")) \\\n",
    ".withColumn(\"user_postal_code\", col(\"user_address.postal_code\")) \\\n",
    ".withColumn(\"countOf_PhoneNumbers\", size(col(\"user_phone_numbers\")))"
   ]
  },
  {
   "cell_type": "code",
   "execution_count": 7,
   "id": "3bcee483",
   "metadata": {},
   "outputs": [
    {
     "name": "stdout",
     "output_type": "stream",
     "text": [
      "+-------+---------------+--------------+--------------------+-----------+--------------------+--------------------+--------------------+-----------------+----------+----------------+--------------------+\n",
      "|user_id|user_first_name|user_last_name|          user_email|user_gender|  user_phone_numbers|        user_address|         user_street|        user_city|user_state|user_postal_code|countOf_PhoneNumbers|\n",
      "+-------+---------------+--------------+--------------------+-----------+--------------------+--------------------+--------------------+-----------------+----------+----------------+--------------------+\n",
      "| 200001|         Eirena|     Cutsforth|ecutsforth0@wisc.edu|     Female|[4197404036, 9173...|{8 Warrior Drive,...|     8 Warrior Drive|           Dallas|     Texas|           75358|                   4|\n",
      "| 200002|          Marja|      Shopcott|mshopcott1@hexun.com|     Female|[9542037028, 2128...|{66 Prairieview T...|66 Prairieview Te...|           Joliet|  Illinois|           60435|                   5|\n",
      "| 200003|           Dawn|       Tointon|  dtointon2@ucsd.edu|     Female|[9523035647, 2134...|{18 Ronald Regan ...|18 Ronald Regan Hill|  Shawnee Mission|    Kansas|           66225|                   3|\n",
      "| 200004|          Goldi|        Leaman|     gleaman3@360.cn|     Female|[2027069459, 7042...|{7696 Calypso Jun...|7696 Calypso Junc...|       Saint Paul| Minnesota|           55166|                   5|\n",
      "| 200005|       Brewster|      Hallagan|bhallagan4@livejo...|       Male|[8134746319, 2152...|{942 Emmet Park, ...|      942 Emmet Park|      Albuquerque|New Mexico|           87110|                   2|\n",
      "| 200006|       Florence|       Glashby|fglashby5@deviant...|     Female|[7571763565, 7134...|{664 Ridge Oak Ci...|664 Ridge Oak Circle|   Virginia Beach|  Virginia|           23454|                   5|\n",
      "| 200007|         Zollie|     Philimore|zphilimore6@webed...|       Male|[7865450177, 8019...|{4 Continental Dr...| 4 Continental Drive|    Young America| Minnesota|           55557|                   2|\n",
      "| 200008|      Ferdinand|       Ramelot| framelot7@alexa.com|       Male|        [8164055187]|{44698 Arapahoe P...| 44698 Arapahoe Park|           Tucson|   Arizona|           85725|                   1|\n",
      "| 200009|          Ruddy|     Greystoke|rgreystoke8@digg.com|       Male|                null|{null, null, null...|                null|             null|      null|            null|                  -1|\n",
      "| 200010|         Gilles|         Beeho|   gbeeho9@webmd.com|       Male|[5599886694, 5201...|{9430 Reinke Park...|    9430 Reinke Park|  North Las Vegas|    Nevada|           89087|                   2|\n",
      "| 200011|           Axel|    Kitchinham|akitchinhama@nave...|       Male|        [2036913158]|{688 Granby Point...|    688 Granby Point|           Warren|      Ohio|           44485|                   1|\n",
      "| 200012|         Moreen|      Pearmine|mpearmineb@github...|     Female|        [4047148129]|{3997 Russell Par...|3997 Russell Parkway|North Little Rock|  Arkansas|           72199|                   1|\n",
      "| 200013|       Joceline|       Adshead|jadsheadc@joomla.org|     Female|[3134837460, 3022...|{89 Fair Oaks Ter...|89 Fair Oaks Terrace|  Shawnee Mission|    Kansas|           66220|                   4|\n",
      "| 200014|          Roxie|       Menichi|rmenichid@nationa...|     Female|[6148474898, 9034...|{3 Green Pass, Fo...|        3 Green Pass|       Fort Wayne|   Indiana|           46814|                   4|\n",
      "| 200015|         Selena|         Flood|sfloode@delicious...|     Female|[7274706417, 4026...|{2 Butterfield Cr...|2 Butterfield Cro...|       Sacramento|California|           94286|                   3|\n",
      "| 200016|         Leoine|      Markovic|  lmarkovicf@usa.gov|     Female|                null|{null, null, null...|                null|             null|      null|            null|                  -1|\n",
      "| 200017|           Judi|      Svanetti|jsvanettig@theglo...|     Female|[2158389703, 8169...|{1 Sheridan Pass,...|     1 Sheridan Pass|            Miami|   Florida|           33147|                   5|\n",
      "| 200018|     Hildegarde|         Hapke|     hhapkeh@nps.gov|     Female|        [8183692525]|{60 Oak Valley St...|60 Oak Valley Street|         Missoula|   Montana|           59806|                   1|\n",
      "| 200019|          Hanni|       Dommett|hdommetti@tinyurl...|     Female|[7868201036, 7048...|{5 Vera Point, Wi...|        5 Vera Point|    Wichita Falls|     Texas|           76310|                   4|\n",
      "| 200020|         Rupert|       Gaskoin|rgaskoinj@mozilla...|       Male|[5623065887, 9198...|{52636 Heath Alle...|   52636 Heath Alley|      Kansas City|  Missouri|           64160|                   3|\n",
      "+-------+---------------+--------------+--------------------+-----------+--------------------+--------------------+--------------------+-----------------+----------+----------------+--------------------+\n",
      "only showing top 20 rows\n",
      "\n"
     ]
    }
   ],
   "source": [
    "user_sms_df.show()"
   ]
  },
  {
   "cell_type": "code",
   "execution_count": 8,
   "id": "99fb9d3b",
   "metadata": {},
   "outputs": [
    {
     "data": {
      "text/plain": [
       "[Row(col_name='user_id', data_type='int', comment=None),\n",
       " Row(col_name='user_first_name', data_type='string', comment=None),\n",
       " Row(col_name='user_last_name', data_type='string', comment=None),\n",
       " Row(col_name='user_email', data_type='string', comment=None),\n",
       " Row(col_name='user_gender', data_type='string', comment=None),\n",
       " Row(col_name='user_phone_numbers', data_type='array<string>', comment=None),\n",
       " Row(col_name='user_address', data_type='struct<street:string,city:string,state:string,postal_code:string>', comment=None),\n",
       " Row(col_name='user_street', data_type='string', comment=None),\n",
       " Row(col_name='user_city', data_type='string', comment=None),\n",
       " Row(col_name='user_state', data_type='string', comment=None),\n",
       " Row(col_name='user_postal_code', data_type='string', comment=None),\n",
       " Row(col_name='countOf_PhoneNumbers', data_type='int', comment=None)]"
      ]
     },
     "execution_count": 8,
     "metadata": {},
     "output_type": "execute_result"
    }
   ],
   "source": [
    "# Converting the df to a managed spark table so we can work of SQL format querying style\n",
    "\n",
    "user_sms_df.createOrReplaceTempView(\"user_sms_data\")\n",
    "spark.sql(\"describe extended user_sms_data\").collect()"
   ]
  },
  {
   "cell_type": "code",
   "execution_count": 9,
   "id": "384c9573",
   "metadata": {},
   "outputs": [
    {
     "data": {
      "text/html": [
       "<table border='1'>\n",
       "<tr><th>user_id</th><th>user_first_name</th><th>user_last_name</th><th>user_email</th><th>user_gender</th><th>user_phone_numbers</th><th>user_address</th><th>user_street</th><th>user_city</th><th>user_state</th><th>user_postal_code</th><th>countOf_PhoneNumbers</th></tr>\n",
       "<tr><td>200001</td><td>Eirena</td><td>Cutsforth</td><td>ecutsforth0@wisc.edu</td><td>Female</td><td>[4197404036, 9173...</td><td>{8 Warrior Drive,...</td><td>8 Warrior Drive</td><td>Dallas</td><td>Texas</td><td>75358</td><td>4</td></tr>\n",
       "<tr><td>200002</td><td>Marja</td><td>Shopcott</td><td>mshopcott1@hexun.com</td><td>Female</td><td>[9542037028, 2128...</td><td>{66 Prairieview T...</td><td>66 Prairieview Te...</td><td>Joliet</td><td>Illinois</td><td>60435</td><td>5</td></tr>\n",
       "<tr><td>200003</td><td>Dawn</td><td>Tointon</td><td>dtointon2@ucsd.edu</td><td>Female</td><td>[9523035647, 2134...</td><td>{18 Ronald Regan ...</td><td>18 Ronald Regan Hill</td><td>Shawnee Mission</td><td>Kansas</td><td>66225</td><td>3</td></tr>\n",
       "<tr><td>200004</td><td>Goldi</td><td>Leaman</td><td>gleaman3@360.cn</td><td>Female</td><td>[2027069459, 7042...</td><td>{7696 Calypso Jun...</td><td>7696 Calypso Junc...</td><td>Saint Paul</td><td>Minnesota</td><td>55166</td><td>5</td></tr>\n",
       "<tr><td>200005</td><td>Brewster</td><td>Hallagan</td><td>bhallagan4@livejo...</td><td>Male</td><td>[8134746319, 2152...</td><td>{942 Emmet Park, ...</td><td>942 Emmet Park</td><td>Albuquerque</td><td>New Mexico</td><td>87110</td><td>2</td></tr>\n",
       "<tr><td>200006</td><td>Florence</td><td>Glashby</td><td>fglashby5@deviant...</td><td>Female</td><td>[7571763565, 7134...</td><td>{664 Ridge Oak Ci...</td><td>664 Ridge Oak Circle</td><td>Virginia Beach</td><td>Virginia</td><td>23454</td><td>5</td></tr>\n",
       "<tr><td>200007</td><td>Zollie</td><td>Philimore</td><td>zphilimore6@webed...</td><td>Male</td><td>[7865450177, 8019...</td><td>{4 Continental Dr...</td><td>4 Continental Drive</td><td>Young America</td><td>Minnesota</td><td>55557</td><td>2</td></tr>\n",
       "<tr><td>200008</td><td>Ferdinand</td><td>Ramelot</td><td>framelot7@alexa.com</td><td>Male</td><td>[8164055187]</td><td>{44698 Arapahoe P...</td><td>44698 Arapahoe Park</td><td>Tucson</td><td>Arizona</td><td>85725</td><td>1</td></tr>\n",
       "<tr><td>200009</td><td>Ruddy</td><td>Greystoke</td><td>rgreystoke8@digg.com</td><td>Male</td><td>null</td><td>{null, null, null...</td><td>null</td><td>null</td><td>null</td><td>null</td><td>-1</td></tr>\n",
       "<tr><td>200010</td><td>Gilles</td><td>Beeho</td><td>gbeeho9@webmd.com</td><td>Male</td><td>[5599886694, 5201...</td><td>{9430 Reinke Park...</td><td>9430 Reinke Park</td><td>North Las Vegas</td><td>Nevada</td><td>89087</td><td>2</td></tr>\n",
       "<tr><td>200011</td><td>Axel</td><td>Kitchinham</td><td>akitchinhama@nave...</td><td>Male</td><td>[2036913158]</td><td>{688 Granby Point...</td><td>688 Granby Point</td><td>Warren</td><td>Ohio</td><td>44485</td><td>1</td></tr>\n",
       "<tr><td>200012</td><td>Moreen</td><td>Pearmine</td><td>mpearmineb@github...</td><td>Female</td><td>[4047148129]</td><td>{3997 Russell Par...</td><td>3997 Russell Parkway</td><td>North Little Rock</td><td>Arkansas</td><td>72199</td><td>1</td></tr>\n",
       "<tr><td>200013</td><td>Joceline</td><td>Adshead</td><td>jadsheadc@joomla.org</td><td>Female</td><td>[3134837460, 3022...</td><td>{89 Fair Oaks Ter...</td><td>89 Fair Oaks Terrace</td><td>Shawnee Mission</td><td>Kansas</td><td>66220</td><td>4</td></tr>\n",
       "<tr><td>200014</td><td>Roxie</td><td>Menichi</td><td>rmenichid@nationa...</td><td>Female</td><td>[6148474898, 9034...</td><td>{3 Green Pass, Fo...</td><td>3 Green Pass</td><td>Fort Wayne</td><td>Indiana</td><td>46814</td><td>4</td></tr>\n",
       "<tr><td>200015</td><td>Selena</td><td>Flood</td><td>sfloode@delicious...</td><td>Female</td><td>[7274706417, 4026...</td><td>{2 Butterfield Cr...</td><td>2 Butterfield Cro...</td><td>Sacramento</td><td>California</td><td>94286</td><td>3</td></tr>\n",
       "<tr><td>200016</td><td>Leoine</td><td>Markovic</td><td>lmarkovicf@usa.gov</td><td>Female</td><td>null</td><td>{null, null, null...</td><td>null</td><td>null</td><td>null</td><td>null</td><td>-1</td></tr>\n",
       "<tr><td>200017</td><td>Judi</td><td>Svanetti</td><td>jsvanettig@theglo...</td><td>Female</td><td>[2158389703, 8169...</td><td>{1 Sheridan Pass,...</td><td>1 Sheridan Pass</td><td>Miami</td><td>Florida</td><td>33147</td><td>5</td></tr>\n",
       "<tr><td>200018</td><td>Hildegarde</td><td>Hapke</td><td>hhapkeh@nps.gov</td><td>Female</td><td>[8183692525]</td><td>{60 Oak Valley St...</td><td>60 Oak Valley Street</td><td>Missoula</td><td>Montana</td><td>59806</td><td>1</td></tr>\n",
       "<tr><td>200019</td><td>Hanni</td><td>Dommett</td><td>hdommetti@tinyurl...</td><td>Female</td><td>[7868201036, 7048...</td><td>{5 Vera Point, Wi...</td><td>5 Vera Point</td><td>Wichita Falls</td><td>Texas</td><td>76310</td><td>4</td></tr>\n",
       "<tr><td>200020</td><td>Rupert</td><td>Gaskoin</td><td>rgaskoinj@mozilla...</td><td>Male</td><td>[5623065887, 9198...</td><td>{52636 Heath Alle...</td><td>52636 Heath Alley</td><td>Kansas City</td><td>Missouri</td><td>64160</td><td>3</td></tr>\n",
       "</table>\n",
       "only showing top 20 rows\n"
      ],
      "text/plain": [
       "+-------+---------------+--------------+--------------------+-----------+--------------------+--------------------+--------------------+-----------------+----------+----------------+--------------------+\n",
       "|user_id|user_first_name|user_last_name|          user_email|user_gender|  user_phone_numbers|        user_address|         user_street|        user_city|user_state|user_postal_code|countOf_PhoneNumbers|\n",
       "+-------+---------------+--------------+--------------------+-----------+--------------------+--------------------+--------------------+-----------------+----------+----------------+--------------------+\n",
       "| 200001|         Eirena|     Cutsforth|ecutsforth0@wisc.edu|     Female|[4197404036, 9173...|{8 Warrior Drive,...|     8 Warrior Drive|           Dallas|     Texas|           75358|                   4|\n",
       "| 200002|          Marja|      Shopcott|mshopcott1@hexun.com|     Female|[9542037028, 2128...|{66 Prairieview T...|66 Prairieview Te...|           Joliet|  Illinois|           60435|                   5|\n",
       "| 200003|           Dawn|       Tointon|  dtointon2@ucsd.edu|     Female|[9523035647, 2134...|{18 Ronald Regan ...|18 Ronald Regan Hill|  Shawnee Mission|    Kansas|           66225|                   3|\n",
       "| 200004|          Goldi|        Leaman|     gleaman3@360.cn|     Female|[2027069459, 7042...|{7696 Calypso Jun...|7696 Calypso Junc...|       Saint Paul| Minnesota|           55166|                   5|\n",
       "| 200005|       Brewster|      Hallagan|bhallagan4@livejo...|       Male|[8134746319, 2152...|{942 Emmet Park, ...|      942 Emmet Park|      Albuquerque|New Mexico|           87110|                   2|\n",
       "| 200006|       Florence|       Glashby|fglashby5@deviant...|     Female|[7571763565, 7134...|{664 Ridge Oak Ci...|664 Ridge Oak Circle|   Virginia Beach|  Virginia|           23454|                   5|\n",
       "| 200007|         Zollie|     Philimore|zphilimore6@webed...|       Male|[7865450177, 8019...|{4 Continental Dr...| 4 Continental Drive|    Young America| Minnesota|           55557|                   2|\n",
       "| 200008|      Ferdinand|       Ramelot| framelot7@alexa.com|       Male|        [8164055187]|{44698 Arapahoe P...| 44698 Arapahoe Park|           Tucson|   Arizona|           85725|                   1|\n",
       "| 200009|          Ruddy|     Greystoke|rgreystoke8@digg.com|       Male|                null|{null, null, null...|                null|             null|      null|            null|                  -1|\n",
       "| 200010|         Gilles|         Beeho|   gbeeho9@webmd.com|       Male|[5599886694, 5201...|{9430 Reinke Park...|    9430 Reinke Park|  North Las Vegas|    Nevada|           89087|                   2|\n",
       "| 200011|           Axel|    Kitchinham|akitchinhama@nave...|       Male|        [2036913158]|{688 Granby Point...|    688 Granby Point|           Warren|      Ohio|           44485|                   1|\n",
       "| 200012|         Moreen|      Pearmine|mpearmineb@github...|     Female|        [4047148129]|{3997 Russell Par...|3997 Russell Parkway|North Little Rock|  Arkansas|           72199|                   1|\n",
       "| 200013|       Joceline|       Adshead|jadsheadc@joomla.org|     Female|[3134837460, 3022...|{89 Fair Oaks Ter...|89 Fair Oaks Terrace|  Shawnee Mission|    Kansas|           66220|                   4|\n",
       "| 200014|          Roxie|       Menichi|rmenichid@nationa...|     Female|[6148474898, 9034...|{3 Green Pass, Fo...|        3 Green Pass|       Fort Wayne|   Indiana|           46814|                   4|\n",
       "| 200015|         Selena|         Flood|sfloode@delicious...|     Female|[7274706417, 4026...|{2 Butterfield Cr...|2 Butterfield Cro...|       Sacramento|California|           94286|                   3|\n",
       "| 200016|         Leoine|      Markovic|  lmarkovicf@usa.gov|     Female|                null|{null, null, null...|                null|             null|      null|            null|                  -1|\n",
       "| 200017|           Judi|      Svanetti|jsvanettig@theglo...|     Female|[2158389703, 8169...|{1 Sheridan Pass,...|     1 Sheridan Pass|            Miami|   Florida|           33147|                   5|\n",
       "| 200018|     Hildegarde|         Hapke|     hhapkeh@nps.gov|     Female|        [8183692525]|{60 Oak Valley St...|60 Oak Valley Street|         Missoula|   Montana|           59806|                   1|\n",
       "| 200019|          Hanni|       Dommett|hdommetti@tinyurl...|     Female|[7868201036, 7048...|{5 Vera Point, Wi...|        5 Vera Point|    Wichita Falls|     Texas|           76310|                   4|\n",
       "| 200020|         Rupert|       Gaskoin|rgaskoinj@mozilla...|       Male|[5623065887, 9198...|{52636 Heath Alle...|   52636 Heath Alley|      Kansas City|  Missouri|           64160|                   3|\n",
       "+-------+---------------+--------------+--------------------+-----------+--------------------+--------------------+--------------------+-----------------+----------+----------------+--------------------+\n",
       "only showing top 20 rows"
      ]
     },
     "execution_count": 9,
     "metadata": {},
     "output_type": "execute_result"
    }
   ],
   "source": [
    "spark.sql(\"select * from user_sms_data\")"
   ]
  },
  {
   "cell_type": "code",
   "execution_count": 10,
   "id": "965b505d",
   "metadata": {},
   "outputs": [
    {
     "data": {
      "text/html": [
       "<table border='1'>\n",
       "<tr><th>total_records</th></tr>\n",
       "<tr><td>1000000</td></tr>\n",
       "</table>\n"
      ],
      "text/plain": [
       "+-------------+\n",
       "|total_records|\n",
       "+-------------+\n",
       "|      1000000|\n",
       "+-------------+"
      ]
     },
     "execution_count": 10,
     "metadata": {},
     "output_type": "execute_result"
    }
   ],
   "source": [
    "# 1st Use case - Count the total number of records across all the JSON files\n",
    "\n",
    "spark.sql(\"select count(*) as total_records from user_sms_data\")"
   ]
  },
  {
   "cell_type": "code",
   "execution_count": 11,
   "id": "5b1bc73c",
   "metadata": {},
   "outputs": [
    {
     "data": {
      "text/html": [
       "<table border='1'>\n",
       "<tr><th>Total_users_from_NY</th></tr>\n",
       "<tr><td>49576</td></tr>\n",
       "</table>\n"
      ],
      "text/plain": [
       "+-------------------+\n",
       "|Total_users_from_NY|\n",
       "+-------------------+\n",
       "|              49576|\n",
       "+-------------------+"
      ]
     },
     "execution_count": 11,
     "metadata": {},
     "output_type": "execute_result"
    }
   ],
   "source": [
    "# 2nd Use case - Find how many users are from the state New York\n",
    "\n",
    "spark.sql(\"\"\"select count(distinct(user_id)) as Total_users_from_NY\n",
    "            from user_sms_data where \n",
    "            user_state = 'New York'\"\"\")"
   ]
  },
  {
   "cell_type": "code",
   "execution_count": 12,
   "id": "35459a7f",
   "metadata": {},
   "outputs": [
    {
     "data": {
      "text/html": [
       "<table border='1'>\n",
       "<tr><th>user_state</th><th>postal_code_counts</th></tr>\n",
       "<tr><td>California</td><td>206</td></tr>\n",
       "</table>\n"
      ],
      "text/plain": [
       "+----------+------------------+\n",
       "|user_state|postal_code_counts|\n",
       "+----------+------------------+\n",
       "|California|               206|\n",
       "+----------+------------------+"
      ]
     },
     "execution_count": 12,
     "metadata": {},
     "output_type": "execute_result"
    }
   ],
   "source": [
    "# 3rd Use case - Find which state has the maximum number of post codes\n",
    "\n",
    "spark.sql(\"\"\"select user_state, count(distinct(user_postal_code)) as postal_code_counts\n",
    "            from user_sms_data group by user_state order by postal_code_counts\n",
    "            DESC LIMIT 1\"\"\")"
   ]
  },
  {
   "cell_type": "code",
   "execution_count": 13,
   "id": "9955c2aa",
   "metadata": {},
   "outputs": [
    {
     "data": {
      "text/html": [
       "<table border='1'>\n",
       "<tr><th>user_city</th><th>maximum_NoOfUsers</th></tr>\n",
       "<tr><td>Washington</td><td>28504</td></tr>\n",
       "</table>\n"
      ],
      "text/plain": [
       "+----------+-----------------+\n",
       "| user_city|maximum_NoOfUsers|\n",
       "+----------+-----------------+\n",
       "|Washington|            28504|\n",
       "+----------+-----------------+"
      ]
     },
     "execution_count": 13,
     "metadata": {},
     "output_type": "execute_result"
    }
   ],
   "source": [
    "# 4th Use case - Find the city with the maximum number of users (There are some nulls in user_city so we have to ensure to filter nulls out)\n",
    "\n",
    "spark.sql(\"\"\"select user_city, count(distinct(user_id)) as maximum_NoOfUsers\n",
    "            from user_sms_data where user_city is not NULL \n",
    "            group by user_city order by maximum_NoOfUsers\n",
    "            DESC LIMIT 1\"\"\")"
   ]
  },
  {
   "cell_type": "code",
   "execution_count": 14,
   "id": "be1acddc",
   "metadata": {},
   "outputs": [
    {
     "data": {
      "text/html": [
       "<table border='1'>\n",
       "<tr><th>count(DISTINCT user_id)</th></tr>\n",
       "<tr><td>2015</td></tr>\n",
       "</table>\n"
      ],
      "text/plain": [
       "+-----------------------+\n",
       "|count(DISTINCT user_id)|\n",
       "+-----------------------+\n",
       "|                   2015|\n",
       "+-----------------------+"
      ]
     },
     "execution_count": 14,
     "metadata": {},
     "output_type": "execute_result"
    }
   ],
   "source": [
    "# 5th Use case - Count the total number of distinct users with a specific email\n",
    "\n",
    "spark.sql(\"\"\"select count(distinct(user_id)) from user_sms_data \n",
    "            where user_email like '%bizjournals.com'\"\"\")"
   ]
  },
  {
   "cell_type": "code",
   "execution_count": 15,
   "id": "e90fe17b",
   "metadata": {},
   "outputs": [
    {
     "data": {
      "text/html": [
       "<table border='1'>\n",
       "<tr><th>unique_users</th></tr>\n",
       "<tr><td>179041</td></tr>\n",
       "</table>\n"
      ],
      "text/plain": [
       "+------------+\n",
       "|unique_users|\n",
       "+------------+\n",
       "|      179041|\n",
       "+------------+"
      ]
     },
     "execution_count": 15,
     "metadata": {},
     "output_type": "execute_result"
    }
   ],
   "source": [
    "# 6th Use case - Find the users with 4 phone numbers\n",
    "\n",
    "spark.sql(\"\"\"select count(distinct(user_id)) as unique_users from user_sms_data\n",
    "            where countOf_PhoneNumbers = 4\"\"\")"
   ]
  },
  {
   "cell_type": "code",
   "execution_count": 16,
   "id": "94373c58",
   "metadata": {},
   "outputs": [
    {
     "data": {
      "text/html": [
       "<table border='1'>\n",
       "<tr><th>unique_users_without_pn</th></tr>\n",
       "<tr><td>108981</td></tr>\n",
       "</table>\n"
      ],
      "text/plain": [
       "+-----------------------+\n",
       "|unique_users_without_pn|\n",
       "+-----------------------+\n",
       "|                 108981|\n",
       "+-----------------------+"
      ]
     },
     "execution_count": 16,
     "metadata": {},
     "output_type": "execute_result"
    }
   ],
   "source": [
    "# 7th Use case - Find the users which do not have any phone numbers linked to them\n",
    "\n",
    "spark.sql(\"\"\"select count(distinct(user_id)) as unique_users_without_pn\n",
    "            from user_sms_data where countOf_PhoneNumbers = -1\n",
    "            and user_phone_numbers is NULL\"\"\")"
   ]
  },
  {
   "cell_type": "code",
   "execution_count": 18,
   "id": "ee1586a9",
   "metadata": {},
   "outputs": [],
   "source": [
    "# Now, let's write back the base df to HDFS home location in parquet format using the Spark writer API\n",
    "\n",
    "user_sms_df.write.format(\"parquet\").mode(\"overwrite\").option(\"path\", \"/user/itv011181/Spark_Internals and Dataframes\").save()"
   ]
  },
  {
   "cell_type": "code",
   "execution_count": 19,
   "id": "25e29a5f",
   "metadata": {},
   "outputs": [
    {
     "data": {
      "text/html": [
       "<table border='1'>\n",
       "<tr><th>user_state</th><th>Male</th><th>Female</th></tr>\n",
       "<tr><td>Alabama</td><td>9307</td><td>9178</td></tr>\n",
       "<tr><td>Alaska</td><td>1882</td><td>1938</td></tr>\n",
       "<tr><td>Arizona</td><td>9406</td><td>9543</td></tr>\n",
       "<tr><td>Arkansas</td><td>2420</td><td>2416</td></tr>\n",
       "<tr><td>California</td><td>49120</td><td>48716</td></tr>\n",
       "<tr><td>Colorado</td><td>10128</td><td>10125</td></tr>\n",
       "<tr><td>Connecticut</td><td>5797</td><td>5917</td></tr>\n",
       "<tr><td>Delaware</td><td>1651</td><td>1654</td></tr>\n",
       "<tr><td>District of Columbia</td><td>14212</td><td>14292</td></tr>\n",
       "<tr><td>Florida</td><td>36692</td><td>36688</td></tr>\n",
       "</table>\n"
      ],
      "text/plain": [
       "+--------------------+-----+------+\n",
       "|          user_state| Male|Female|\n",
       "+--------------------+-----+------+\n",
       "|             Alabama| 9307|  9178|\n",
       "|              Alaska| 1882|  1938|\n",
       "|             Arizona| 9406|  9543|\n",
       "|            Arkansas| 2420|  2416|\n",
       "|          California|49120| 48716|\n",
       "|            Colorado|10128| 10125|\n",
       "|         Connecticut| 5797|  5917|\n",
       "|            Delaware| 1651|  1654|\n",
       "|District of Columbia|14212| 14292|\n",
       "|             Florida|36692| 36688|\n",
       "+--------------------+-----+------+"
      ]
     },
     "execution_count": 19,
     "metadata": {},
     "output_type": "execute_result"
    }
   ],
   "source": [
    "# Filtering out the gender count based on state-wise\n",
    "\n",
    "spark.sql(\"\"\"select user_state, \n",
    "                sum(total_MaleCounts) as Male,\n",
    "                sum(total_FemaleCounts) as Female\n",
    "                from\n",
    "            (select user_state, case when user_gender = 'Male' then count(user_id) end as total_MaleCounts,\n",
    "            case when user_gender = 'Female' then count(user_id) end as total_FemaleCounts\n",
    "            from user_sms_data where user_state is not NULL\n",
    "            and user_phone_numbers is not NULL\n",
    "            group by user_state, user_gender)\n",
    "            group by user_state\n",
    "            order by user_state LIMIT 10\"\"\")"
   ]
  },
  {
   "cell_type": "markdown",
   "id": "2c696328",
   "metadata": {},
   "source": [
    "# Packaged the code into a .py file and ran it using the spark submit command with some defined configurations rather than using system default.\n",
    "\n",
    "$ spark3-submit --master yarn --num-executors 2 --executor-cores 2 --executor-memory 4G --conf spark.dynamicAllocation.enabled=false spark_internals_submit.py\n",
    "SPARK_MAJOR_VERSION is set to 3, using Spark3\n",
    "+-------+---------------+--------------+--------------------+-----------+--------------------+--------------------+\n",
    "|user_id|user_first_name|user_last_name|          user_email|user_gender|  user_phone_numbers|        user_address|\n",
    "+-------+---------------+--------------+--------------------+-----------+--------------------+--------------------+\n",
    "| 200001|         Eirena|     Cutsforth|ecutsforth0@wisc.edu|     Female|[4197404036, 9173...|{8 Warrior Drive,...|\n",
    "| 200002|          Marja|      Shopcott|mshopcott1@hexun.com|     Female|[9542037028, 2128...|{66 Prairieview T...|\n",
    "| 200003|           Dawn|       Tointon|  dtointon2@ucsd.edu|     Female|[9523035647, 2134...|{18 Ronald Regan ...|\n",
    "| 200004|          Goldi|        Leaman|     gleaman3@360.cn|     Female|[2027069459, 7042...|{7696 Calypso Jun...|\n",
    "| 200005|       Brewster|      Hallagan|bhallagan4@livejo...|       Male|[8134746319, 2152...|{942 Emmet Park, ...|\n",
    "| 200006|       Florence|       Glashby|fglashby5@deviant...|     Female|[7571763565, 7134...|{664 Ridge Oak Ci...|\n",
    "| 200007|         Zollie|     Philimore|zphilimore6@webed...|       Male|[7865450177, 8019...|{4 Continental Dr...|\n",
    "| 200008|      Ferdinand|       Ramelot| framelot7@alexa.com|       Male|        [8164055187]|{44698 Arapahoe P...|\n",
    "| 200009|          Ruddy|     Greystoke|rgreystoke8@digg.com|       Male|                null|{null, null, null...|\n",
    "| 200010|         Gilles|         Beeho|   gbeeho9@webmd.com|       Male|[5599886694, 5201...|{9430 Reinke Park...|\n",
    "| 200011|           Axel|    Kitchinham|akitchinhama@nave...|       Male|        [2036913158]|{688 Granby Point...|\n",
    "| 200012|         Moreen|      Pearmine|mpearmineb@github...|     Female|        [4047148129]|{3997 Russell Par...|\n",
    "| 200013|       Joceline|       Adshead|jadsheadc@joomla.org|     Female|[3134837460, 3022...|{89 Fair Oaks Ter...|\n",
    "| 200014|          Roxie|       Menichi|rmenichid@nationa...|     Female|[6148474898, 9034...|{3 Green Pass, Fo...|\n",
    "| 200015|         Selena|         Flood|sfloode@delicious...|     Female|[7274706417, 4026...|{2 Butterfield Cr...|\n",
    "| 200016|         Leoine|      Markovic|  lmarkovicf@usa.gov|     Female|                null|{null, null, null...|\n",
    "| 200017|           Judi|      Svanetti|jsvanettig@theglo...|     Female|[2158389703, 8169...|{1 Sheridan Pass,...|\n",
    "| 200018|     Hildegarde|         Hapke|     hhapkeh@nps.gov|     Female|        [8183692525]|{60 Oak Valley St...|\n",
    "| 200019|          Hanni|       Dommett|hdommetti@tinyurl...|     Female|[7868201036, 7048...|{5 Vera Point, Wi...|\n",
    "| 200020|         Rupert|       Gaskoin|rgaskoinj@mozilla...|       Male|[5623065887, 9198...|{52636 Heath Alle...|\n",
    "+-------+---------------+--------------+--------------------+-----------+--------------------+--------------------+\n",
    "only showing top 20 rows\n",
    "\n",
    "+-------+---------------+--------------+--------------------+-----------+--------------------+--------------------+--------------------+-----------------+----------+----------------+-------------+\n",
    "|user_id|user_first_name|user_last_name|          user_email|user_gender|  user_phone_numbers|        user_address|         user_street|        user_city|user_state|user_postal_code|phone_numbers|\n",
    "+-------+---------------+--------------+--------------------+-----------+--------------------+--------------------+--------------------+-----------------+----------+----------------+-------------+\n",
    "| 200001|         Eirena|     Cutsforth|ecutsforth0@wisc.edu|     Female|[4197404036, 9173...|{8 Warrior Drive,...|     8 Warrior Drive|           Dallas|     Texas|           75358|            4|\n",
    "| 200002|          Marja|      Shopcott|mshopcott1@hexun.com|     Female|[9542037028, 2128...|{66 Prairieview T...|66 Prairieview Te...|           Joliet|  Illinois|           60435|            5|\n",
    "| 200003|           Dawn|       Tointon|  dtointon2@ucsd.edu|     Female|[9523035647, 2134...|{18 Ronald Regan ...|18 Ronald Regan Hill|  Shawnee Mission|    Kansas|           66225|            3|\n",
    "| 200004|          Goldi|        Leaman|     gleaman3@360.cn|     Female|[2027069459, 7042...|{7696 Calypso Jun...|7696 Calypso Junc...|       Saint Paul| Minnesota|           55166|            5|\n",
    "| 200005|       Brewster|      Hallagan|bhallagan4@livejo...|       Male|[8134746319, 2152...|{942 Emmet Park, ...|      942 Emmet Park|      Albuquerque|New Mexico|           87110|            2|\n",
    "| 200006|       Florence|       Glashby|fglashby5@deviant...|     Female|[7571763565, 7134...|{664 Ridge Oak Ci...|664 Ridge Oak Circle|   Virginia Beach|  Virginia|           23454|            5|\n",
    "| 200007|         Zollie|     Philimore|zphilimore6@webed...|       Male|[7865450177, 8019...|{4 Continental Dr...| 4 Continental Drive|    Young America| Minnesota|           55557|            2|\n",
    "| 200008|      Ferdinand|       Ramelot| framelot7@alexa.com|       Male|        [8164055187]|{44698 Arapahoe P...| 44698 Arapahoe Park|           Tucson|   Arizona|           85725|            1|\n",
    "| 200009|          Ruddy|     Greystoke|rgreystoke8@digg.com|       Male|                null|{null, null, null...|                null|             null|      null|            null|           -1|\n",
    "| 200010|         Gilles|         Beeho|   gbeeho9@webmd.com|       Male|[5599886694, 5201...|{9430 Reinke Park...|    9430 Reinke Park|  North Las Vegas|    Nevada|           89087|            2|\n",
    "| 200011|           Axel|    Kitchinham|akitchinhama@nave...|       Male|        [2036913158]|{688 Granby Point...|    688 Granby Point|           Warren|      Ohio|           44485|            1|\n",
    "| 200012|         Moreen|      Pearmine|mpearmineb@github...|     Female|        [4047148129]|{3997 Russell Par...|3997 Russell Parkway|North Little Rock|  Arkansas|           72199|            1|\n",
    "| 200013|       Joceline|       Adshead|jadsheadc@joomla.org|     Female|[3134837460, 3022...|{89 Fair Oaks Ter...|89 Fair Oaks Terrace|  Shawnee Mission|    Kansas|           66220|            4|\n",
    "| 200014|          Roxie|       Menichi|rmenichid@nationa...|     Female|[6148474898, 9034...|{3 Green Pass, Fo...|        3 Green Pass|       Fort Wayne|   Indiana|           46814|            4|\n",
    "| 200015|         Selena|         Flood|sfloode@delicious...|     Female|[7274706417, 4026...|{2 Butterfield Cr...|2 Butterfield Cro...|       Sacramento|California|           94286|            3|\n",
    "| 200016|         Leoine|      Markovic|  lmarkovicf@usa.gov|     Female|                null|{null, null, null...|                null|             null|      null|            null|           -1|\n",
    "| 200017|           Judi|      Svanetti|jsvanettig@theglo...|     Female|[2158389703, 8169...|{1 Sheridan Pass,...|     1 Sheridan Pass|            Miami|   Florida|           33147|            5|\n",
    "| 200018|     Hildegarde|         Hapke|     hhapkeh@nps.gov|     Female|        [8183692525]|{60 Oak Valley St...|60 Oak Valley Street|         Missoula|   Montana|           59806|            1|\n",
    "| 200019|          Hanni|       Dommett|hdommetti@tinyurl...|     Female|[7868201036, 7048...|{5 Vera Point, Wi...|        5 Vera Point|    Wichita Falls|     Texas|           76310|            4|\n",
    "| 200020|         Rupert|       Gaskoin|rgaskoinj@mozilla...|       Male|[5623065887, 9198...|{52636 Heath Alle...|   52636 Heath Alley|      Kansas City|  Missouri|           64160|            3|\n",
    "+-------+---------------+--------------+--------------------+-----------+--------------------+--------------------+--------------------+-----------------+----------+----------------+-------------+\n",
    "only showing top 20 rows\n",
    "\n",
    "+------------+\n",
    "|unique_users|\n",
    "+------------+\n",
    "|       49576|\n",
    "+------------+\n",
    "\n",
    "+----------+------------------+\n",
    "|user_state|total_postal_codes|\n",
    "+----------+------------------+\n",
    "|California|               206|\n",
    "+----------+------------------+\n",
    "\n",
    "+----------+-----------+\n",
    "| user_city|total_users|\n",
    "+----------+-----------+\n",
    "|Washington|      28504|\n",
    "+----------+-----------+\n",
    "\n",
    "+-----------+\n",
    "|total_users|\n",
    "+-----------+\n",
    "|       2015|\n",
    "+-----------+\n",
    "\n",
    "+------------------+\n",
    "|total_unique_users|\n",
    "+------------------+\n",
    "|            179041|\n",
    "+------------------+\n",
    "\n",
    "+------------------+\n",
    "|total_unique_users|\n",
    "+------------------+\n",
    "|            108981|\n",
    "+------------------+"
   ]
  },
  {
   "cell_type": "code",
   "execution_count": null,
   "id": "0c77a9aa",
   "metadata": {},
   "outputs": [],
   "source": []
  }
 ],
 "metadata": {
  "kernelspec": {
   "display_name": "Pyspark 3",
   "language": "python",
   "name": "pyspark3"
  },
  "language_info": {
   "codemirror_mode": {
    "name": "ipython",
    "version": 3
   },
   "file_extension": ".py",
   "mimetype": "text/x-python",
   "name": "python",
   "nbconvert_exporter": "python",
   "pygments_lexer": "ipython3",
   "version": "3.6.12"
  }
 },
 "nbformat": 4,
 "nbformat_minor": 5
}
